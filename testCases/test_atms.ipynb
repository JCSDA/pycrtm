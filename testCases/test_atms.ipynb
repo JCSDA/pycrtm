{
 "cells": [
  {
   "cell_type": "markdown",
   "metadata": {},
   "source": [
    "\n",
    "<h1> pyCRTM Jupyter Notebook </h1>"
   ]
  },
  {
   "cell_type": "markdown",
   "metadata": {},
   "source": [
    "test_atms.ipynb\n",
    "\n",
    "<h3>Description:</h3>\n",
    "Jupyter notebook version of the <b>test_atms.ipynb</b> Python test script for pyCRTM. \n",
    "\n",
    "<h3>Requirements:</h3>\n",
    "Python 3\n",
    "\n",
    "<h3>Record of Revisions:</h3>"
   ]
  },
  {
   "cell_type": "markdown",
   "metadata": {},
   "source": [
    "    \n",
    "|Date||Author||Description|\n",
    "|:-||:-||:-|\n",
    "|2020-02-26||P. Stegmann||Original code                                                                          |\n",
    "|2021-03-01||B. Karpowicz ||update API to use Salinity instead of S2m |\n",
    "|2021-03-20||B. Karpowicz ||update to use globally install pycrtm |"
   ]
  },
  {
   "cell_type": "markdown",
   "metadata": {},
   "source": [
    "<h2> Setup </h2>"
   ]
  },
  {
   "cell_type": "markdown",
   "metadata": {},
   "source": [
    "Import Python utility modules:"
   ]
  },
  {
   "cell_type": "code",
   "execution_count": null,
   "metadata": {},
   "outputs": [],
   "source": [
    "import configparser\n",
    "import os\n",
    "import h5py\n",
    "import sys \n",
    "import numpy as np\n",
    "from matplotlib import pyplot as plt"
   ]
  },
  {
   "cell_type": "markdown",
   "metadata": {},
   "source": [
    "Load the pyCRTM module:"
   ]
  },
  {
   "cell_type": "code",
   "execution_count": null,
   "metadata": {},
   "outputs": [],
   "source": [
    "from pyCRTM import pyCRTM, profilesCreate"
   ]
  },
  {
   "cell_type": "markdown",
   "metadata": {},
   "source": [
    "<h2> Creating the Test Cases: </h2>"
   ]
  },
  {
   "cell_type": "code",
   "execution_count": null,
   "metadata": {},
   "outputs": [],
   "source": [
    "thisDir = os.path.dirname(os.path.abspath('path'))\n",
    "print(thisDir)\n",
    "cases = os.listdir( os.path.join(thisDir,'data') )\n",
    "print(cases)\n",
    "cases.sort()"
   ]
  },
  {
   "cell_type": "markdown",
   "metadata": {},
   "source": [
    "Create 4 arrays to store atmospheric profile data and precomputed brightness temperatures:"
   ]
  },
  {
   "cell_type": "code",
   "execution_count": null,
   "metadata": {},
   "outputs": [],
   "source": [
    "profiles = profilesCreate( 4, 92)\n",
    "storedTb = []\n",
    "storedEmis = []"
   ]
  },
  {
   "cell_type": "markdown",
   "metadata": {},
   "source": [
    "Populate the arrays with data for the 4 cases:"
   ]
  },
  {
   "cell_type": "code",
   "execution_count": null,
   "metadata": {},
   "outputs": [],
   "source": [
    "for i,c in enumerate(cases):\n",
    "        h5 = h5py.File(os.path.join(thisDir,'data',c) , 'r')\n",
    "        profiles.Angles[i,0] = h5['zenithAngle'][()]\n",
    "        profiles.Angles[i,1] = 999.9 \n",
    "        profiles.Angles[i,2] = 100.0  # 100 degrees zenith below horizon.\n",
    "        profiles.Angles[i,3] = 0.0 # zero solar azimuth \n",
    "        profiles.Angles[i,4] = h5['scanAngle'][()]\n",
    "        profiles.DateTimes[i,0] = 2001\n",
    "        profiles.DateTimes[i,1] = 1\n",
    "        profiles.DateTimes[i,2] = 1\n",
    "        profiles.Pi[i,:] = np.asarray(h5['pressureLevels'] )  # [hPa]\n",
    "        profiles.P[i,:] = np.asarray(h5['pressureLayers'][()]) # [hPa]\n",
    "        profiles.T[i,:] = np.asarray(h5['temperatureLayers']) # [K]\n",
    "        profiles.Q[i,:] = np.asarray(h5['humidityLayers'])\n",
    "        profiles.O3[i,:] = np.asarray(h5['ozoneConcLayers'])\n",
    "        profiles.clouds[i,:,0,0] = np.asarray(h5['cloudConcentration'])\n",
    "        profiles.clouds[i,:,0,1] = np.asarray(h5['cloudEffectiveRadius'])\n",
    "        profiles.aerosols[i,:,0,0] = np.asarray(h5['aerosolConcentration'])\n",
    "        profiles.aerosols[i,:,0,1] = np.asarray(h5['aerosolEffectiveRadius'])\n",
    "        profiles.aerosolType[i] = h5['aerosolType'][()]\n",
    "        profiles.cloudType[i] = h5['cloudType'][()]\n",
    "        profiles.cloudFraction[i,:] = h5['cloudFraction'][()]\n",
    "        profiles.climatology[i] = h5['climatology'][()]\n",
    "        profiles.surfaceFractions[i,:] = h5['surfaceFractions']\n",
    "        profiles.surfaceTemperatures[i,:] = h5['surfaceTemperatures']\n",
    "        profiles.Salinity[i] = 33.0 \n",
    "        profiles.windSpeed10m[i] = 5.0\n",
    "        profiles.LAI[i] = h5['LAI'][()]\n",
    "        profiles.windDirection10m[i] = h5['windDirection10m'][()]\n",
    "        # land, soil, veg, water, snow, ice\n",
    "        profiles.surfaceTypes[i,0] = h5['landType'][()]\n",
    "        profiles.surfaceTypes[i,1] = h5['soilType'][()]\n",
    "        profiles.surfaceTypes[i,2] = h5['vegType'][()]\n",
    "        profiles.surfaceTypes[i,3] = h5['waterType'][()]\n",
    "        profiles.surfaceTypes[i,4] = h5['snowType'][()]\n",
    "        profiles.surfaceTypes[i,5] = h5['iceType'][()]\n",
    "        storedTb.append(np.asarray(h5['Tb_atms'][0:22]))\n",
    "        storedEmis.append(np.asarray(h5['emissivity_atms'][0:22]))\n",
    "        h5.close()"
   ]
  },
  {
   "cell_type": "markdown",
   "metadata": {},
   "source": [
    "<h3> Inspect input data </h3>"
   ]
  },
  {
   "cell_type": "markdown",
   "metadata": {},
   "source": [
    "Plot the temperature:"
   ]
  },
  {
   "cell_type": "code",
   "execution_count": null,
   "metadata": {},
   "outputs": [],
   "source": [
    "for i,c in enumerate(cases):\n",
    "    plt.semilogy(profiles.T[i,:],profiles.P[i,:],label='case %d'%(i+1))\n",
    "plt.gca().invert_yaxis()\n",
    "plt.xlabel('Temperature [K]')\n",
    "plt.ylabel('Pressure [hPa]')\n",
    "plt.legend()"
   ]
  },
  {
   "cell_type": "markdown",
   "metadata": {},
   "source": [
    "Plot the water vapor concentration:"
   ]
  },
  {
   "cell_type": "code",
   "execution_count": null,
   "metadata": {},
   "outputs": [],
   "source": [
    "for i,c in enumerate(cases):\n",
    "    plt.loglog(profiles.Q[i,:],profiles.P[i,:],label='case %d'%(i+1))\n",
    "plt.gca().invert_yaxis()\n",
    "plt.xlabel(r'Absolute Humidity $[g/m^3]$')\n",
    "plt.ylabel('Pressure [hPa]')\n",
    "plt.legend()"
   ]
  },
  {
   "cell_type": "markdown",
   "metadata": {},
   "source": [
    "<h2> CRTM Initialization </h2>"
   ]
  },
  {
   "cell_type": "markdown",
   "metadata": {},
   "source": [
    "Set the satellite instrument ID as defined in the CRTM documentation:"
   ]
  },
  {
   "cell_type": "code",
   "execution_count": null,
   "metadata": {},
   "outputs": [],
   "source": [
    "sensor_id = 'atms_npp'"
   ]
  },
  {
   "cell_type": "markdown",
   "metadata": {},
   "source": [
    "Instantiate a pyCRTM object:"
   ]
  },
  {
   "cell_type": "code",
   "execution_count": null,
   "metadata": {},
   "outputs": [],
   "source": [
    "crtmOb = pyCRTM()"
   ]
  },
  {
   "cell_type": "markdown",
   "metadata": {},
   "source": [
    "Set the data members of the pyCRTM object:"
   ]
  },
  {
   "cell_type": "code",
   "execution_count": null,
   "metadata": {},
   "outputs": [],
   "source": [
    "crtmOb.profiles = profiles\n",
    "crtmOb.sensor_id = sensor_id\n",
    "crtmOb.nThreads = 1 "
   ]
  },
  {
   "cell_type": "markdown",
   "metadata": {},
   "source": [
    "Load CRTM SpcCoeff.bin Spectral coefficient files for the selected instrument:"
   ]
  },
  {
   "cell_type": "code",
   "execution_count": null,
   "metadata": {},
   "outputs": [],
   "source": [
    "crtmOb.loadInst()"
   ]
  },
  {
   "cell_type": "markdown",
   "metadata": {},
   "source": [
    "<h2> Run the CRTM in Forward and Jacobian Mode</h2>"
   ]
  },
  {
   "cell_type": "markdown",
   "metadata": {},
   "source": [
    "Run the Forward solver of the CRTM for the 4 test cases:"
   ]
  },
  {
   "cell_type": "code",
   "execution_count": null,
   "metadata": {},
   "outputs": [],
   "source": [
    "crtmOb.runDirect()"
   ]
  },
  {
   "cell_type": "markdown",
   "metadata": {},
   "source": [
    "Extract instrument brightness temperatures from solution object:"
   ]
  },
  {
   "cell_type": "code",
   "execution_count": null,
   "metadata": {},
   "outputs": [],
   "source": [
    "forwardTb = crtmOb.Bt"
   ]
  },
  {
   "cell_type": "markdown",
   "metadata": {},
   "source": [
    "Extract surface emissivity from solution object:"
   ]
  },
  {
   "cell_type": "code",
   "execution_count": null,
   "metadata": {},
   "outputs": [],
   "source": [
    "forwardEmissivity = crtmOb.surfEmisRefl[0,:]"
   ]
  },
  {
   "cell_type": "markdown",
   "metadata": {},
   "source": [
    "Reset the surface emissivity for the K-Matrix run:"
   ]
  },
  {
   "cell_type": "code",
   "execution_count": null,
   "metadata": {},
   "outputs": [],
   "source": [
    "crtmOb.surfEmisRefl = []"
   ]
  },
  {
   "cell_type": "markdown",
   "metadata": {},
   "source": [
    "Run the K-Matrix solver:"
   ]
  },
  {
   "cell_type": "code",
   "execution_count": null,
   "metadata": {},
   "outputs": [],
   "source": [
    "crtmOb.runK()"
   ]
  },
  {
   "cell_type": "markdown",
   "metadata": {},
   "source": [
    "Extract the brightness temperature solution and the surface emissivity Jacobian:"
   ]
  },
  {
   "cell_type": "code",
   "execution_count": null,
   "metadata": {},
   "outputs": [],
   "source": [
    "kTb = crtmOb.Bt\n",
    "kEmissivity = crtmOb.surfEmisRefl[0,:]"
   ]
  },
  {
   "cell_type": "markdown",
   "metadata": {},
   "source": [
    "Compare the extracted solution data with the precomputed Fortran solution from the CRTM and plot the difference if substantial:"
   ]
  },
  {
   "cell_type": "code",
   "execution_count": null,
   "metadata": {},
   "outputs": [],
   "source": [
    "if ( all( np.abs( forwardTb.flatten() - np.asarray(storedTb).flatten() ) <= 1e-5)  and all( np.abs( kTb.flatten() - np.asarray(storedTb).flatten() ) <= 1e-5) ):\n",
    "    print(\"Yay! all values are close enough to what CRTM test program produced!\")\n",
    "else: \n",
    "    print(\"Boo! something failed. Look at atms plots\")\n",
    "    wavenumbers = np.zeros([4,22])\n",
    "    wavenumbers[0:4,:] = np.linspace(1,23,22)\n",
    "        \n",
    "    plt.figure()\n",
    "    plt.plot(wavenumbers.T,forwardTb.T-np.asarray(storedTb).T ) \n",
    "    plt.legend(['1','2','3','4'])\n",
    "    plt.savefig(os.path.join(thisDir,'atms'+'_spectrum_forward.png'))\n",
    "    plt.figure()\n",
    "    plt.plot(wavenumbers.T,forwardEmissivity.T-np.asarray(storedEmis).T)\n",
    "    plt.savefig(os.path.join(thisDir,'atms'+'_emissivity_forward.png')) \n",
    "    \n",
    "    plt.figure()\n",
    "    plt.plot(wavenumbers.T,kTb.T-np.asarray(storedTb).T)\n",
    "    plt.savefig(os.path.join(thisDir,'atms'+'_spectrum_k.png'))\n",
    "    plt.figure()\n",
    "    plt.plot(wavenumbers.T,kEmissivity.T-np.asarray(storedEmis).T)\n",
    "    plt.savefig(os.path.join(thisDir,'atms'+'_emissivity_k.png')) \n",
    "    sys.exit(\"Boo! didn't pass tolerance with CRTM test program.\")"
   ]
  },
  {
   "cell_type": "code",
   "execution_count": null,
   "metadata": {},
   "outputs": [],
   "source": []
  }
 ],
 "metadata": {
  "celltoolbar": "Edit Metadata",
  "kernelspec": {
   "display_name": "Python 3",
   "language": "python",
   "name": "python3"
  },
  "language_info": {
   "codemirror_mode": {
    "name": "ipython",
    "version": 3
   },
   "file_extension": ".py",
   "mimetype": "text/x-python",
   "name": "python",
   "nbconvert_exporter": "python",
   "pygments_lexer": "ipython3",
   "version": "3.9.1"
  }
 },
 "nbformat": 4,
 "nbformat_minor": 2
}
